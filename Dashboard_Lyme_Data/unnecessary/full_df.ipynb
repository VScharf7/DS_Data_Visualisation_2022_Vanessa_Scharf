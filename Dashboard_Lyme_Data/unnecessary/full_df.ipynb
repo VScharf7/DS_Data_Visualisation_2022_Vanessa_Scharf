{
 "cells": [
  {
   "cell_type": "code",
   "execution_count": 1,
   "metadata": {},
   "outputs": [],
   "source": [
    "import pandas as pd\n",
    "import numpy as np"
   ]
  },
  {
   "cell_type": "code",
   "execution_count": 2,
   "metadata": {},
   "outputs": [],
   "source": [
    "df = pd.read_csv('full_df.csv')"
   ]
  },
  {
   "cell_type": "code",
   "execution_count": 3,
   "metadata": {},
   "outputs": [],
   "source": [
    "df.drop('Unnamed: 0', axis=1, inplace=True)"
   ]
  },
  {
   "cell_type": "code",
   "execution_count": 4,
   "metadata": {},
   "outputs": [
    {
     "data": {
      "text/plain": [
       "Index(['State', 'Code', 'y2000', 'y2001', 'y2002', 'y2003', 'y2004', 'y2005',\n",
       "       'y2006', 'y2007', 'y2008', 'y2009', 'y2010', 'y2011', 'y2012', 'y2013',\n",
       "       'y2014', 'y2015', 'y2016', 'y2017', 'y2018', 'y2019'],\n",
       "      dtype='object')"
      ]
     },
     "execution_count": 4,
     "metadata": {},
     "output_type": "execute_result"
    }
   ],
   "source": [
    "df.columns"
   ]
  },
  {
   "cell_type": "code",
   "execution_count": 5,
   "metadata": {},
   "outputs": [],
   "source": [
    "df.columns = ['State', 'state_code', 'y2000', 'y2001', 'y2002', 'y2003', 'y2004', 'y2005',\n",
    "       'y2006', 'y2007', 'y2008', 'y2009', 'y2010', 'y2011', 'y2012', 'y2013',\n",
    "       'y2014', 'y2015', 'y2016', 'y2017', 'y2018', 'y2019']"
   ]
  },
  {
   "cell_type": "code",
   "execution_count": 6,
   "metadata": {},
   "outputs": [
    {
     "data": {
      "text/plain": [
       "Index(['State', 'state_code', 'y2000', 'y2001', 'y2002', 'y2003', 'y2004',\n",
       "       'y2005', 'y2006', 'y2007', 'y2008', 'y2009', 'y2010', 'y2011', 'y2012',\n",
       "       'y2013', 'y2014', 'y2015', 'y2016', 'y2017', 'y2018', 'y2019'],\n",
       "      dtype='object')"
      ]
     },
     "execution_count": 6,
     "metadata": {},
     "output_type": "execute_result"
    }
   ],
   "source": [
    "df.columns"
   ]
  },
  {
   "cell_type": "code",
   "execution_count": 7,
   "metadata": {},
   "outputs": [],
   "source": [
    "df.to_csv('spyder_df.csv')"
   ]
  },
  {
   "cell_type": "code",
   "execution_count": 8,
   "metadata": {},
   "outputs": [
    {
     "data": {
      "text/html": [
       "<div>\n",
       "<style scoped>\n",
       "    .dataframe tbody tr th:only-of-type {\n",
       "        vertical-align: middle;\n",
       "    }\n",
       "\n",
       "    .dataframe tbody tr th {\n",
       "        vertical-align: top;\n",
       "    }\n",
       "\n",
       "    .dataframe thead th {\n",
       "        text-align: right;\n",
       "    }\n",
       "</style>\n",
       "<table border=\"1\" class=\"dataframe\">\n",
       "  <thead>\n",
       "    <tr style=\"text-align: right;\">\n",
       "      <th></th>\n",
       "      <th>State</th>\n",
       "      <th>state_code</th>\n",
       "      <th>y2000</th>\n",
       "      <th>y2001</th>\n",
       "      <th>y2002</th>\n",
       "      <th>y2003</th>\n",
       "      <th>y2004</th>\n",
       "      <th>y2005</th>\n",
       "      <th>y2006</th>\n",
       "      <th>y2007</th>\n",
       "      <th>...</th>\n",
       "      <th>y2010</th>\n",
       "      <th>y2011</th>\n",
       "      <th>y2012</th>\n",
       "      <th>y2013</th>\n",
       "      <th>y2014</th>\n",
       "      <th>y2015</th>\n",
       "      <th>y2016</th>\n",
       "      <th>y2017</th>\n",
       "      <th>y2018</th>\n",
       "      <th>y2019</th>\n",
       "    </tr>\n",
       "  </thead>\n",
       "  <tbody>\n",
       "    <tr>\n",
       "      <th>0</th>\n",
       "      <td>Alabama</td>\n",
       "      <td>AL</td>\n",
       "      <td>6</td>\n",
       "      <td>10</td>\n",
       "      <td>11</td>\n",
       "      <td>8</td>\n",
       "      <td>6</td>\n",
       "      <td>3</td>\n",
       "      <td>11</td>\n",
       "      <td>13</td>\n",
       "      <td>...</td>\n",
       "      <td>2</td>\n",
       "      <td>24</td>\n",
       "      <td>25</td>\n",
       "      <td>24</td>\n",
       "      <td>64</td>\n",
       "      <td>25</td>\n",
       "      <td>38</td>\n",
       "      <td>41</td>\n",
       "      <td>36</td>\n",
       "      <td>66</td>\n",
       "    </tr>\n",
       "    <tr>\n",
       "      <th>1</th>\n",
       "      <td>Alaska</td>\n",
       "      <td>AK</td>\n",
       "      <td>2</td>\n",
       "      <td>2</td>\n",
       "      <td>3</td>\n",
       "      <td>3</td>\n",
       "      <td>3</td>\n",
       "      <td>4</td>\n",
       "      <td>3</td>\n",
       "      <td>10</td>\n",
       "      <td>...</td>\n",
       "      <td>7</td>\n",
       "      <td>11</td>\n",
       "      <td>10</td>\n",
       "      <td>14</td>\n",
       "      <td>8</td>\n",
       "      <td>9</td>\n",
       "      <td>15</td>\n",
       "      <td>10</td>\n",
       "      <td>11</td>\n",
       "      <td>3</td>\n",
       "    </tr>\n",
       "    <tr>\n",
       "      <th>2</th>\n",
       "      <td>Arizona</td>\n",
       "      <td>AZ</td>\n",
       "      <td>2</td>\n",
       "      <td>3</td>\n",
       "      <td>4</td>\n",
       "      <td>4</td>\n",
       "      <td>13</td>\n",
       "      <td>10</td>\n",
       "      <td>10</td>\n",
       "      <td>2</td>\n",
       "      <td>...</td>\n",
       "      <td>2</td>\n",
       "      <td>15</td>\n",
       "      <td>13</td>\n",
       "      <td>32</td>\n",
       "      <td>21</td>\n",
       "      <td>12</td>\n",
       "      <td>13</td>\n",
       "      <td>28</td>\n",
       "      <td>7</td>\n",
       "      <td>10</td>\n",
       "    </tr>\n",
       "    <tr>\n",
       "      <th>3</th>\n",
       "      <td>Arkansas</td>\n",
       "      <td>AR</td>\n",
       "      <td>7</td>\n",
       "      <td>4</td>\n",
       "      <td>3</td>\n",
       "      <td>0</td>\n",
       "      <td>0</td>\n",
       "      <td>0</td>\n",
       "      <td>0</td>\n",
       "      <td>1</td>\n",
       "      <td>...</td>\n",
       "      <td>0</td>\n",
       "      <td>0</td>\n",
       "      <td>0</td>\n",
       "      <td>0</td>\n",
       "      <td>0</td>\n",
       "      <td>0</td>\n",
       "      <td>2</td>\n",
       "      <td>6</td>\n",
       "      <td>4</td>\n",
       "      <td>18</td>\n",
       "    </tr>\n",
       "    <tr>\n",
       "      <th>4</th>\n",
       "      <td>California</td>\n",
       "      <td>CA</td>\n",
       "      <td>96</td>\n",
       "      <td>95</td>\n",
       "      <td>97</td>\n",
       "      <td>86</td>\n",
       "      <td>48</td>\n",
       "      <td>95</td>\n",
       "      <td>85</td>\n",
       "      <td>75</td>\n",
       "      <td>...</td>\n",
       "      <td>129</td>\n",
       "      <td>92</td>\n",
       "      <td>70</td>\n",
       "      <td>112</td>\n",
       "      <td>73</td>\n",
       "      <td>98</td>\n",
       "      <td>134</td>\n",
       "      <td>145</td>\n",
       "      <td>104</td>\n",
       "      <td>144</td>\n",
       "    </tr>\n",
       "  </tbody>\n",
       "</table>\n",
       "<p>5 rows × 22 columns</p>\n",
       "</div>"
      ],
      "text/plain": [
       "        State state_code  y2000  y2001  y2002  y2003  y2004  y2005  y2006  \\\n",
       "0     Alabama         AL      6     10     11      8      6      3     11   \n",
       "1      Alaska         AK      2      2      3      3      3      4      3   \n",
       "2     Arizona         AZ      2      3      4      4     13     10     10   \n",
       "3    Arkansas         AR      7      4      3      0      0      0      0   \n",
       "4  California         CA     96     95     97     86     48     95     85   \n",
       "\n",
       "   y2007  ...  y2010  y2011  y2012  y2013  y2014  y2015  y2016  y2017  y2018  \\\n",
       "0     13  ...      2     24     25     24     64     25     38     41     36   \n",
       "1     10  ...      7     11     10     14      8      9     15     10     11   \n",
       "2      2  ...      2     15     13     32     21     12     13     28      7   \n",
       "3      1  ...      0      0      0      0      0      0      2      6      4   \n",
       "4     75  ...    129     92     70    112     73     98    134    145    104   \n",
       "\n",
       "   y2019  \n",
       "0     66  \n",
       "1      3  \n",
       "2     10  \n",
       "3     18  \n",
       "4    144  \n",
       "\n",
       "[5 rows x 22 columns]"
      ]
     },
     "execution_count": 8,
     "metadata": {},
     "output_type": "execute_result"
    }
   ],
   "source": [
    "df.head()"
   ]
  },
  {
   "cell_type": "code",
   "execution_count": 12,
   "metadata": {},
   "outputs": [
    {
     "name": "stdout",
     "output_type": "stream",
     "text": [
      "4329\n",
      "4083\n",
      "5535\n",
      "5730\n",
      "5100\n",
      "5565\n",
      "4460\n",
      "4165\n",
      "7794\n",
      "5722\n",
      "3805\n",
      "5362\n",
      "5138\n",
      "5758\n",
      "7487\n",
      "9048\n",
      "11443\n",
      "11900\n",
      "10208\n",
      "8998\n"
     ]
    }
   ],
   "source": [
    "print(df.y2000.max())\n",
    "print(df.y2001.max())\n",
    "print(df.y2002.max())\n",
    "print(df.y2003.max())\n",
    "print(df.y2004.max())\n",
    "print(df.y2005.max())\n",
    "print(df.y2006.max())\n",
    "print(df.y2007.max())\n",
    "print(df.y2008.max())\n",
    "print(df.y2009.max())\n",
    "print(df.y2010.max())\n",
    "print(df.y2011.max())\n",
    "print(df.y2012.max())\n",
    "print(df.y2013.max())\n",
    "print(df.y2014.max())\n",
    "print(df.y2015.max())\n",
    "print(df.y2016.max())\n",
    "print(df.y2017.max())\n",
    "print(df.y2018.max())\n",
    "print(df.y2019.max())"
   ]
  },
  {
   "cell_type": "code",
   "execution_count": null,
   "metadata": {},
   "outputs": [],
   "source": [
    "# safe total counts per year in seperate variable\n"
   ]
  },
  {
   "cell_type": "code",
   "execution_count": null,
   "metadata": {},
   "outputs": [],
   "source": []
  },
  {
   "cell_type": "code",
   "execution_count": null,
   "metadata": {},
   "outputs": [],
   "source": [
    "Append new row of total per year\n",
    "df = df.append({'State' : 'Total',\n",
    "          'state_code' : '',\n",
    "          'y2000' : '4083', \n",
    "          'y2001' : '5730',\n",
    "          'y2002' : '5100',\n",
    "          'y2003' : '5565',\n",
    "          'y2004' : '4460',\n",
    "          'y2005' : '4165',\n",
    "          'y2006' : '7794',\n",
    "          'y2007' : '5722',\n",
    "          'y2008' : '3805',\n",
    "          'y2009' : '5362',\n",
    "          'y2009' : '5138',\n",
    "          'y2009' : '5758',\n",
    "          'y2019' : '7487',\n",
    "          'y2000' : '9048',\n",
    "          'y2000' : '11443', \n",
    "          'y2000' : '11900', \n",
    "          'y2000' : '10208', \n",
    "          'y2000' : '8998'},\n",
    "         ignore_index=True)\n",
    "\n",
    "df.tail()"
   ]
  },
  {
   "cell_type": "code",
   "execution_count": null,
   "metadata": {},
   "outputs": [],
   "source": []
  },
  {
   "cell_type": "code",
   "execution_count": null,
   "metadata": {},
   "outputs": [],
   "source": []
  },
  {
   "cell_type": "code",
   "execution_count": null,
   "metadata": {},
   "outputs": [],
   "source": [
    "df.to_csv('df_add_total.csv')"
   ]
  },
  {
   "cell_type": "code",
   "execution_count": null,
   "metadata": {},
   "outputs": [],
   "source": [
    "\n",
    "df = pd.DataFrame(df,columns=['State', 'state_code', 'y2000', 'y2001', 'y2002', 'y2003', 'y2004',\n",
    "       'y2005', 'y2006', 'y2007', 'y2008', 'y2009', 'y2010', 'y2011', 'y2012',\n",
    "       'y2013', 'y2014', 'y2015', 'y2016', 'y2017', 'y2018', 'y2019']) \n",
    "df.insert(20,\"total\",['4329', '4083', '5730', '5100', '5565', '4460',\n",
    "                      '4165', '7794', '5722', '3805', '5362', '5138',\n",
    "                      '5758', '7487', '9048', '11443', '11900', '10208',\n",
    "                      '8998'],True)"
   ]
  },
  {
   "cell_type": "code",
   "execution_count": null,
   "metadata": {},
   "outputs": [],
   "source": [
    "!ls"
   ]
  },
  {
   "cell_type": "code",
   "execution_count": null,
   "metadata": {},
   "outputs": [],
   "source": []
  },
  {
   "cell_type": "code",
   "execution_count": null,
   "metadata": {},
   "outputs": [],
   "source": []
  },
  {
   "cell_type": "code",
   "execution_count": null,
   "metadata": {},
   "outputs": [],
   "source": []
  },
  {
   "cell_type": "code",
   "execution_count": null,
   "metadata": {},
   "outputs": [],
   "source": []
  },
  {
   "cell_type": "code",
   "execution_count": null,
   "metadata": {},
   "outputs": [],
   "source": []
  },
  {
   "cell_type": "code",
   "execution_count": null,
   "metadata": {},
   "outputs": [],
   "source": []
  },
  {
   "cell_type": "code",
   "execution_count": null,
   "metadata": {},
   "outputs": [],
   "source": []
  },
  {
   "cell_type": "code",
   "execution_count": null,
   "metadata": {},
   "outputs": [],
   "source": []
  },
  {
   "cell_type": "code",
   "execution_count": null,
   "metadata": {},
   "outputs": [],
   "source": []
  },
  {
   "cell_type": "code",
   "execution_count": null,
   "metadata": {},
   "outputs": [],
   "source": []
  },
  {
   "cell_type": "code",
   "execution_count": null,
   "metadata": {},
   "outputs": [],
   "source": []
  },
  {
   "cell_type": "code",
   "execution_count": null,
   "metadata": {},
   "outputs": [],
   "source": []
  },
  {
   "cell_type": "code",
   "execution_count": null,
   "metadata": {},
   "outputs": [],
   "source": [
    "cum2000"
   ]
  },
  {
   "cell_type": "code",
   "execution_count": null,
   "metadata": {},
   "outputs": [],
   "source": [
    "df_add_column = pd.DataFrame(df,columns=['State', 'state_code', 'y2000', 'y2001', 'y2002', 'y2003', 'y2004',\n",
    "       'y2005', 'y2006', 'y2007', 'y2008', 'y2009', 'y2010', 'y2011', 'y2012',\n",
    "       'y2013', 'y2014', 'y2015', 'y2016', 'y2017', 'y2018', 'y2019']) \n",
    "df.insert(22,\"Count_Sum\",['4329','4083', '5730', '5100', '5565','4460','4165','7794','5722','3805',\n",
    "                          '5362','5138','5758','7487','9048','11443','11900','10208','8998',],True)\n",
    "df.columns"
   ]
  },
  {
   "cell_type": "code",
   "execution_count": null,
   "metadata": {},
   "outputs": [],
   "source": [
    "\n"
   ]
  },
  {
   "cell_type": "code",
   "execution_count": null,
   "metadata": {},
   "outputs": [],
   "source": []
  },
  {
   "cell_type": "code",
   "execution_count": null,
   "metadata": {},
   "outputs": [],
   "source": []
  },
  {
   "cell_type": "code",
   "execution_count": null,
   "metadata": {},
   "outputs": [],
   "source": []
  },
  {
   "cell_type": "code",
   "execution_count": null,
   "metadata": {},
   "outputs": [],
   "source": []
  },
  {
   "cell_type": "code",
   "execution_count": null,
   "metadata": {},
   "outputs": [],
   "source": []
  },
  {
   "cell_type": "code",
   "execution_count": null,
   "metadata": {},
   "outputs": [],
   "source": []
  },
  {
   "cell_type": "code",
   "execution_count": null,
   "metadata": {},
   "outputs": [],
   "source": [
    "cummulated = pd.read_csv('spyder_df.csv')"
   ]
  },
  {
   "cell_type": "code",
   "execution_count": null,
   "metadata": {},
   "outputs": [],
   "source": []
  },
  {
   "cell_type": "code",
   "execution_count": null,
   "metadata": {},
   "outputs": [],
   "source": []
  },
  {
   "cell_type": "code",
   "execution_count": null,
   "metadata": {},
   "outputs": [],
   "source": []
  }
 ],
 "metadata": {
  "kernelspec": {
   "display_name": "Python 3",
   "language": "python",
   "name": "python3"
  },
  "language_info": {
   "codemirror_mode": {
    "name": "ipython",
    "version": 3
   },
   "file_extension": ".py",
   "mimetype": "text/x-python",
   "name": "python",
   "nbconvert_exporter": "python",
   "pygments_lexer": "ipython3",
   "version": "3.7.6"
  }
 },
 "nbformat": 4,
 "nbformat_minor": 4
}
